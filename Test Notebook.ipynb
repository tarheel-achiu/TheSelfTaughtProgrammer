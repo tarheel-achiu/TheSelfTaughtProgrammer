{
 "cells": [
  {
   "cell_type": "code",
   "execution_count": 1,
   "metadata": {
    "collapsed": false
   },
   "outputs": [
    {
     "name": "stdout",
     "output_type": "stream",
     "text": [
      "[(10, 24), (20, 40), (100, 200)]\n"
     ]
    }
   ],
   "source": [
    "class Rectangle():\n",
    "    recs = []\n",
    "\n",
    "    def __init__(self, w, l):\n",
    "        self.width = w\n",
    "        self.length = l\n",
    "        self.recs.append((self.width, self.length))\n",
    "\n",
    "    def print_size(self):\n",
    "        print(\"{} by {}\".format(self.width, self.length))\n",
    "\n",
    "r1 = Rectangle(10, 24)\n",
    "r2 = Rectangle(20, 40)\n",
    "r2 = Rectangle(100, 200)\n",
    "\n",
    "print(Rectangle.recs)"
   ]
  },
  {
   "cell_type": "code",
   "execution_count": null,
   "metadata": {
    "collapsed": true
   },
   "outputs": [],
   "source": []
  }
 ],
 "metadata": {
  "kernelspec": {
   "display_name": "Python 3",
   "language": "python",
   "name": "python3"
  },
  "language_info": {
   "codemirror_mode": {
    "name": "ipython",
    "version": 3
   },
   "file_extension": ".py",
   "mimetype": "text/x-python",
   "name": "python",
   "nbconvert_exporter": "python",
   "pygments_lexer": "ipython3",
   "version": "3.6.0"
  }
 },
 "nbformat": 4,
 "nbformat_minor": 2
}
