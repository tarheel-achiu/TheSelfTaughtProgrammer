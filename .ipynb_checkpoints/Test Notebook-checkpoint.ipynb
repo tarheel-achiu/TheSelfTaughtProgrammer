{
 "cells": [
  {
   "cell_type": "code",
   "execution_count": 1,
   "metadata": {
    "collapsed": false
   },
   "outputs": [
    {
     "name": "stdout",
     "output_type": "stream",
     "text": [
      "True\n",
      "False\n"
     ]
    }
   ],
   "source": [
    "def ss(number_list, n):\n",
    "    found = False\n",
    "    for i in number_list:\n",
    "        if i == n:\n",
    "            found = True\n",
    "            break\n",
    "    return found\n",
    "\n",
    "\n",
    "numbers = range(0, 100)\n",
    "s1 = ss(numbers, 2)\n",
    "print(s1)\n",
    "s2 = ss(numbers, 202)\n",
    "print(s2)\n",
    "\n"
   ]
  },
  {
   "cell_type": "code",
   "execution_count": null,
   "metadata": {
    "collapsed": true
   },
   "outputs": [],
   "source": []
  }
 ],
 "metadata": {
  "kernelspec": {
   "display_name": "Python 3",
   "language": "python",
   "name": "python3"
  },
  "language_info": {
   "codemirror_mode": {
    "name": "ipython",
    "version": 3
   },
   "file_extension": ".py",
   "mimetype": "text/x-python",
   "name": "python",
   "nbconvert_exporter": "python",
   "pygments_lexer": "ipython3",
   "version": "3.6.0"
  }
 },
 "nbformat": 4,
 "nbformat_minor": 2
}
